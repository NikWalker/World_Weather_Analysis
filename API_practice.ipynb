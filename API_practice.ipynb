{
 "cells": [
  {
   "cell_type": "code",
   "execution_count": 2,
   "id": "06e6e9b2",
   "metadata": {},
   "outputs": [
    {
     "data": {
      "text/plain": [
       "<zip at 0x21f23bd8ec8>"
      ]
     },
     "execution_count": 2,
     "metadata": {},
     "output_type": "execute_result"
    }
   ],
   "source": [
    "#create a practice set of random latitude and longitude combinations.\n",
    "lats= [25.12903645, 25.92017388, 26.62509167, -59.98969384, 37.30571269]\n",
    "lngs= [-67.59741259, 11.09532135, 74.84233102, -76.89176677, -61.13376282]\n",
    "lat_lng = zip(lats, lngs)\n",
    "lat_lng\n"
   ]
  },
  {
   "cell_type": "code",
   "execution_count": 3,
   "id": "1ac064f0",
   "metadata": {},
   "outputs": [],
   "source": [
    "#use the citipy module to determine city based on latitude and longitude\n",
    "from citipy import citipy"
   ]
  },
  {
   "cell_type": "code",
   "execution_count": 4,
   "id": "857f73ea",
   "metadata": {},
   "outputs": [],
   "source": [
    "#add the latitudes and longitudes to a list\n",
    "coordinates= list(lat_lng)"
   ]
  },
  {
   "cell_type": "code",
   "execution_count": 5,
   "id": "776e4d82",
   "metadata": {},
   "outputs": [
    {
     "name": "stdout",
     "output_type": "stream",
     "text": [
      "cockburn town tc\n",
      "gat ly\n",
      "parvatsar in\n",
      "punta arenas cl\n",
      "saint george bm\n"
     ]
    }
   ],
   "source": [
    "# Use the print() function to display the latitude and longitude combinations\n",
    "for coordinate in coordinates:\n",
    "    print(citipy.nearest_city(coordinate[0],coordinate[1]).city_name,\n",
    "          citipy.nearest_city(coordinate[0],coordinate[1]).country_code)"
   ]
  },
  {
   "cell_type": "code",
   "execution_count": 63,
   "id": "ceddceb6",
   "metadata": {},
   "outputs": [
    {
     "name": "stdout",
     "output_type": "stream",
     "text": [
      "2c0f7ed569735754671587f6f78337c0\n"
     ]
    }
   ],
   "source": [
    "#import the requests library\n",
    "import requests\n",
    "\n",
    "#import the API key\n",
    "from config import weather_api_key\n",
    "print(weather_api_key)"
   ]
  },
  {
   "cell_type": "code",
   "execution_count": 66,
   "id": "0ebc2a00",
   "metadata": {},
   "outputs": [
    {
     "name": "stdout",
     "output_type": "stream",
     "text": [
      "https://api.openweathermap.org/data/2.5/weather?lat={lat}&lon={lon}&appid=2c0f7ed569735754671587f6f78337c0&units=imperial\n"
     ]
    }
   ],
   "source": [
    "#starting URL for Weather Map API Call\n",
    "url= \"https://api.openweathermap.org/data/2.5/weather?lat={lat}&lon={lon}&appid=\" + weather_api_key + \"&units=imperial\"\n",
    "print(url)\n"
   ]
  },
  {
   "cell_type": "code",
   "execution_count": 68,
   "id": "1b1a1da6",
   "metadata": {},
   "outputs": [
    {
     "name": "stdout",
     "output_type": "stream",
     "text": [
      "https://api.openweathermap.org/data/2.5/weather?lat={lat}&lon={lon}&appid=2c0f7ed569735754671587f6f78337c0&units=imperial&q=Boston\n"
     ]
    }
   ],
   "source": [
    "#create and endpoint URL for a city\n",
    "city_url = url + \"&q=\" + \"Boston\"\n",
    "print(city_url)"
   ]
  },
  {
   "cell_type": "code",
   "execution_count": 69,
   "id": "6b00ca14",
   "metadata": {},
   "outputs": [
    {
     "data": {
      "text/plain": [
       "200"
      ]
     },
     "execution_count": 69,
     "metadata": {},
     "output_type": "execute_result"
    }
   ],
   "source": [
    "#make a \"get\" request for the city weather\n",
    "city_weather= requests.get(city_url)\n",
    "city_weather.status_code\n"
   ]
  },
  {
   "cell_type": "code",
   "execution_count": 71,
   "id": "c45d3775",
   "metadata": {},
   "outputs": [
    {
     "data": {
      "text/plain": [
       "<Response [404]>"
      ]
     },
     "execution_count": 71,
     "metadata": {},
     "output_type": "execute_result"
    }
   ],
   "source": [
    "#create an endpoint URl for a city, 404 response for unrecognized city (typo)\n",
    "city_url = url +\"&q=\" + \"Bston\"\n",
    "city_weather = requests.get(city_url)\n",
    "city_weather"
   ]
  },
  {
   "cell_type": "code",
   "execution_count": 72,
   "id": "da61ec24",
   "metadata": {},
   "outputs": [
    {
     "data": {
      "text/plain": [
       "<Response [200]>"
      ]
     },
     "execution_count": 72,
     "metadata": {},
     "output_type": "execute_result"
    }
   ],
   "source": [
    "#create an endpoint URL for a city\n",
    "city_url = url + \"&q=\" + \"Boston\"\n",
    "city_weather = requests.get(city_url)\n",
    "city_weather"
   ]
  },
  {
   "cell_type": "code",
   "execution_count": 73,
   "id": "0413badf",
   "metadata": {},
   "outputs": [
    {
     "data": {
      "text/plain": [
       "'{\"coord\":{\"lon\":-71.0598,\"lat\":42.3584},\"weather\":[{\"id\":804,\"main\":\"Clouds\",\"description\":\"overcast clouds\",\"icon\":\"04d\"}],\"base\":\"stations\",\"main\":{\"temp\":54.59,\"feels_like\":54.18,\"temp_min\":51.22,\"temp_max\":57.31,\"pressure\":1022,\"humidity\":94},\"visibility\":10000,\"wind\":{\"speed\":11.5,\"deg\":170},\"clouds\":{\"all\":100},\"dt\":1670429987,\"sys\":{\"type\":2,\"id\":2013408,\"country\":\"US\",\"sunrise\":1670414398,\"sunset\":1670447508},\"timezone\":-18000,\"id\":4930956,\"name\":\"Boston\",\"cod\":200}'"
      ]
     },
     "execution_count": 73,
     "metadata": {},
     "output_type": "execute_result"
    }
   ],
   "source": [
    "#get the text of the 'get' request\n",
    "city_weather.text"
   ]
  },
  {
   "cell_type": "code",
   "execution_count": 75,
   "id": "9b55c1b6",
   "metadata": {},
   "outputs": [
    {
     "data": {
      "text/plain": [
       "{'coord': {'lon': -71.0598, 'lat': 42.3584},\n",
       " 'weather': [{'id': 804,\n",
       "   'main': 'Clouds',\n",
       "   'description': 'overcast clouds',\n",
       "   'icon': '04d'}],\n",
       " 'base': 'stations',\n",
       " 'main': {'temp': 54.59,\n",
       "  'feels_like': 54.18,\n",
       "  'temp_min': 51.22,\n",
       "  'temp_max': 57.31,\n",
       "  'pressure': 1022,\n",
       "  'humidity': 94},\n",
       " 'visibility': 10000,\n",
       " 'wind': {'speed': 11.5, 'deg': 170},\n",
       " 'clouds': {'all': 100},\n",
       " 'dt': 1670429987,\n",
       " 'sys': {'type': 2,\n",
       "  'id': 2013408,\n",
       "  'country': 'US',\n",
       "  'sunrise': 1670414398,\n",
       "  'sunset': 1670447508},\n",
       " 'timezone': -18000,\n",
       " 'id': 4930956,\n",
       " 'name': 'Boston',\n",
       " 'cod': 200}"
      ]
     },
     "execution_count": 75,
     "metadata": {},
     "output_type": "execute_result"
    }
   ],
   "source": [
    "#Get the JSON text of the 'get' request\n",
    "city_weather.json()"
   ]
  },
  {
   "cell_type": "code",
   "execution_count": 76,
   "id": "e5789625",
   "metadata": {},
   "outputs": [
    {
     "name": "stdout",
     "output_type": "stream",
     "text": [
      "City weather found.\n"
     ]
    }
   ],
   "source": [
    "#Create an endpoint URL for a city\n",
    "city_url = url + \"&q=\" + \"Boston\"\n",
    "city_weather = requests.get(city_url)\n",
    "if city_weather.status_code== 200:\n",
    "    print(f\"City weather found.\")\n",
    "else:\n",
    "    print(f\"City weather not found.\")"
   ]
  },
  {
   "cell_type": "code",
   "execution_count": 77,
   "id": "58054481",
   "metadata": {},
   "outputs": [
    {
     "data": {
      "text/plain": [
       "{'coord': {'lon': -71.0598, 'lat': 42.3584},\n",
       " 'weather': [{'id': 804,\n",
       "   'main': 'Clouds',\n",
       "   'description': 'overcast clouds',\n",
       "   'icon': '04d'}],\n",
       " 'base': 'stations',\n",
       " 'main': {'temp': 54.59,\n",
       "  'feels_like': 54.18,\n",
       "  'temp_min': 51.22,\n",
       "  'temp_max': 57.31,\n",
       "  'pressure': 1022,\n",
       "  'humidity': 94},\n",
       " 'visibility': 10000,\n",
       " 'wind': {'speed': 11.5, 'deg': 170},\n",
       " 'clouds': {'all': 100},\n",
       " 'dt': 1670429987,\n",
       " 'sys': {'type': 2,\n",
       "  'id': 2013408,\n",
       "  'country': 'US',\n",
       "  'sunrise': 1670414398,\n",
       "  'sunset': 1670447508},\n",
       " 'timezone': -18000,\n",
       " 'id': 4930956,\n",
       " 'name': 'Boston',\n",
       " 'cod': 200}"
      ]
     },
     "execution_count": 77,
     "metadata": {},
     "output_type": "execute_result"
    }
   ],
   "source": [
    "#create an endpoint URL for a city\n",
    "city_url= url + '&q=' + 'Boston'\n",
    "city_weather= requests.get(city_url)\n",
    "city_weather.json()"
   ]
  },
  {
   "cell_type": "code",
   "execution_count": 43,
   "id": "c25780f5",
   "metadata": {},
   "outputs": [],
   "source": [
    "#get the JSON data\n",
    "boston_data = city_weather.json()"
   ]
  },
  {
   "cell_type": "code",
   "execution_count": 46,
   "id": "84bc8e4c",
   "metadata": {},
   "outputs": [
    {
     "data": {
      "text/plain": [
       "{'type': 2,\n",
       " 'id': 2013408,\n",
       " 'country': 'US',\n",
       " 'sunrise': 1670327941,\n",
       " 'sunset': 1670361114}"
      ]
     },
     "execution_count": 46,
     "metadata": {},
     "output_type": "execute_result"
    }
   ],
   "source": [
    "#use 'sys' key from JSON arrays to get corresponding value\n",
    "boston_data['sys']"
   ]
  },
  {
   "cell_type": "code",
   "execution_count": 48,
   "id": "7ff4f248",
   "metadata": {},
   "outputs": [
    {
     "data": {
      "text/plain": [
       "'US'"
      ]
     },
     "execution_count": 48,
     "metadata": {},
     "output_type": "execute_result"
    }
   ],
   "source": [
    "#chain keys to get country id\n",
    "boston_data['sys'][\"country\"]"
   ]
  },
  {
   "cell_type": "code",
   "execution_count": 50,
   "id": "efaf6f0b",
   "metadata": {},
   "outputs": [
    {
     "data": {
      "text/plain": [
       "1670352734"
      ]
     },
     "execution_count": 50,
     "metadata": {},
     "output_type": "execute_result"
    }
   ],
   "source": [
    "#use dt to get time of day \n",
    "boston_data['dt']\n"
   ]
  },
  {
   "cell_type": "code",
   "execution_count": 52,
   "id": "cd3da44a",
   "metadata": {},
   "outputs": [
    {
     "name": "stdout",
     "output_type": "stream",
     "text": [
      "42.3584 -71.0598 287.33 68 100 3.58\n"
     ]
    }
   ],
   "source": [
    "lat = boston_data['coord']['lat']\n",
    "lng = boston_data['coord']['lon']\n",
    "max_temp = boston_data['main']['temp_max']\n",
    "humidity = boston_data['main']['humidity']\n",
    "clouds = boston_data['clouds']['all']\n",
    "wind = boston_data['wind']['speed']\n",
    "print(lat, lng, max_temp, humidity, clouds, wind)"
   ]
  },
  {
   "cell_type": "code",
   "execution_count": 57,
   "id": "381cdc12",
   "metadata": {},
   "outputs": [
    {
     "data": {
      "text/plain": [
       "'2022-12-06 18:52:14'"
      ]
     },
     "execution_count": 57,
     "metadata": {},
     "output_type": "execute_result"
    }
   ],
   "source": [
    "#import the datetime module from the datetime library\n",
    "from datetime import datetime\n",
    "#get the date from the JSON file\n",
    "date = boston_data['dt']\n",
    "#convert the UTC date to a date format with year, month, day, hours, minutes, and seconds\n",
    "datetime.utcfromtimestamp(date).strftime('%Y-%m-%d %H:%M:%S')"
   ]
  },
  {
   "cell_type": "code",
   "execution_count": 60,
   "id": "b9ccafdd",
   "metadata": {},
   "outputs": [
    {
     "data": {
      "text/plain": [
       "1670427699.145252"
      ]
     },
     "execution_count": 60,
     "metadata": {},
     "output_type": "execute_result"
    }
   ],
   "source": [
    "#import time module\n",
    "import time\n",
    "#get todas date in seconds\n",
    "today = time.time()\n",
    "today"
   ]
  },
  {
   "cell_type": "code",
   "execution_count": 62,
   "id": "306978bd",
   "metadata": {},
   "outputs": [
    {
     "data": {
      "text/plain": [
       "'12/07/22'"
      ]
     },
     "execution_count": 62,
     "metadata": {},
     "output_type": "execute_result"
    }
   ],
   "source": [
    "today= time.strftime('%x')\n",
    "today"
   ]
  }
 ],
 "metadata": {
  "kernelspec": {
   "display_name": "PythonData",
   "language": "python",
   "name": "pythondata"
  },
  "language_info": {
   "codemirror_mode": {
    "name": "ipython",
    "version": 3
   },
   "file_extension": ".py",
   "mimetype": "text/x-python",
   "name": "python",
   "nbconvert_exporter": "python",
   "pygments_lexer": "ipython3",
   "version": "3.7.15"
  }
 },
 "nbformat": 4,
 "nbformat_minor": 5
}
