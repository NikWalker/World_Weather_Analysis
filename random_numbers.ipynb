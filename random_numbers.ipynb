{
 "cells": [
  {
   "cell_type": "code",
   "execution_count": 1,
   "id": "457a4a22",
   "metadata": {},
   "outputs": [],
   "source": [
    "#import the random module\n",
    "import random\n"
   ]
  },
  {
   "cell_type": "code",
   "execution_count": 3,
   "id": "b1e51af0",
   "metadata": {},
   "outputs": [
    {
     "data": {
      "text/plain": [
       "89"
      ]
     },
     "execution_count": 3,
     "metadata": {},
     "output_type": "execute_result"
    }
   ],
   "source": [
    "#randint function random integer\n",
    "random.randint(-90,90)\n"
   ]
  },
  {
   "cell_type": "code",
   "execution_count": 8,
   "id": "b385e01f",
   "metadata": {},
   "outputs": [
    {
     "data": {
      "text/plain": [
       "0.022837484468405167"
      ]
     },
     "execution_count": 8,
     "metadata": {},
     "output_type": "execute_result"
    }
   ],
   "source": [
    "#Random function:single floating-point decimal number between 0 and 1.0\n",
    "random.random()\n"
   ]
  },
  {
   "cell_type": "code",
   "execution_count": 13,
   "id": "d3e5e87c",
   "metadata": {},
   "outputs": [
    {
     "data": {
      "text/plain": [
       "43.23957002178042"
      ]
     },
     "execution_count": 13,
     "metadata": {},
     "output_type": "execute_result"
    }
   ],
   "source": [
    "random_number = random.randint(-90,90) + random.random()\n",
    "random_number\n"
   ]
  },
  {
   "cell_type": "code",
   "execution_count": 18,
   "id": "a3c7783e",
   "metadata": {},
   "outputs": [
    {
     "name": "stdout",
     "output_type": "stream",
     "text": [
      "[-83.32818148095149, 65.86107929380466, 5.534524378685457, -4.659645860313073, 30.37630896983345, -70.71536585808387, -3.1002201881023908, 29.53697225069751, 43.186514115824686, -21.740645442053147]\n"
     ]
    }
   ],
   "source": [
    "x = 1\n",
    "latitudes = []\n",
    "while x < 11:\n",
    "    random_lat = random.randint(-90, 89) + random.random()\n",
    "    latitudes.append(random_lat)\n",
    "    x += 1\n",
    "print(latitudes)"
   ]
  },
  {
   "cell_type": "code",
   "execution_count": 25,
   "id": "c29ee7ee",
   "metadata": {},
   "outputs": [
    {
     "data": {
      "text/plain": [
       "-72"
      ]
     },
     "execution_count": 25,
     "metadata": {},
     "output_type": "execute_result"
    }
   ],
   "source": [
    "#randrange function\n",
    "random.randrange(-90,90, step=1)"
   ]
  },
  {
   "cell_type": "code",
   "execution_count": 26,
   "id": "76713ce6",
   "metadata": {},
   "outputs": [
    {
     "data": {
      "text/plain": [
       "87"
      ]
     },
     "execution_count": 26,
     "metadata": {},
     "output_type": "execute_result"
    }
   ],
   "source": [
    "#randrange function change step\n",
    "random.randrange(-90,90, step=3)"
   ]
  },
  {
   "cell_type": "code",
   "execution_count": 28,
   "id": "0421efcb",
   "metadata": {},
   "outputs": [
    {
     "data": {
      "text/plain": [
       "81.42661815170928"
      ]
     },
     "execution_count": 28,
     "metadata": {},
     "output_type": "execute_result"
    }
   ],
   "source": [
    "#uniform function generates floating-point decimal number between two given numbers inside the parentheses\n",
    "random.uniform(-90,90)"
   ]
  },
  {
   "cell_type": "code",
   "execution_count": 30,
   "id": "8301e87e",
   "metadata": {},
   "outputs": [
    {
     "data": {
      "text/plain": [
       "9.691993394167383"
      ]
     },
     "execution_count": 30,
     "metadata": {},
     "output_type": "execute_result"
    }
   ],
   "source": [
    "#import the NumPy module that has random mod built in\n",
    "import numpy as np\n",
    "np.random.uniform(-90.000,90.000)"
   ]
  },
  {
   "cell_type": "code",
   "execution_count": 32,
   "id": "19acb0ff",
   "metadata": {},
   "outputs": [
    {
     "data": {
      "text/plain": [
       "-24.150330871854152"
      ]
     },
     "execution_count": 32,
     "metadata": {},
     "output_type": "execute_result"
    }
   ],
   "source": [
    "#np option two\n",
    "np.random.uniform(low=-90, high=90)"
   ]
  },
  {
   "cell_type": "code",
   "execution_count": 34,
   "id": "5451a11d",
   "metadata": {},
   "outputs": [
    {
     "data": {
      "text/plain": [
       "array([-83.38757132,  61.54638815, -52.75172714,  31.78758396,\n",
       "       -59.36945008,  63.14007737, -22.27112491,  75.05400888,\n",
       "        -0.75575725, -44.15059631, -52.13857554, -72.25035877,\n",
       "        69.18638835,  66.83815164,  59.25770446,  47.872951  ,\n",
       "        56.48870613, -54.12789339, -79.13253467, -74.18496704,\n",
       "       -75.47446625,  82.78290478, -49.19539337,  -1.82674444,\n",
       "         7.3814504 ,  40.42131216,  39.46442503, -85.85576614,\n",
       "        47.93859444, -56.11285414, -29.95702318, -22.55709469,\n",
       "       -48.05503212,  82.11112204,   9.00206763, -56.96387505,\n",
       "        68.88515086, -48.61303384, -24.72401767, -29.82806016,\n",
       "       -39.10137963,  29.12620165,   3.57941735,  79.55931475,\n",
       "        43.63714955, -55.55644758, -41.72180274,  40.70138704,\n",
       "        12.08698632, -34.20788085])"
      ]
     },
     "execution_count": 34,
     "metadata": {},
     "output_type": "execute_result"
    }
   ],
   "source": [
    "#use size parameter to make array \n",
    "np.random.uniform(-90.000, 90.000, size=50)\n"
   ]
  },
  {
   "cell_type": "code",
   "execution_count": 36,
   "id": "6d551025",
   "metadata": {},
   "outputs": [],
   "source": [
    "#import timeit\n",
    "import timeit"
   ]
  },
  {
   "cell_type": "code",
   "execution_count": 40,
   "id": "b4bb4cc0",
   "metadata": {},
   "outputs": [
    {
     "name": "stdout",
     "output_type": "stream",
     "text": [
      "48.6 µs ± 8.24 µs per loop (mean ± std. dev. of 7 runs, 10000 loops each)\n"
     ]
    }
   ],
   "source": [
    "%timeit np.random.uniform(-90.000, 90.000, size=1500)"
   ]
  },
  {
   "cell_type": "code",
   "execution_count": 42,
   "id": "d809da4f",
   "metadata": {},
   "outputs": [
    {
     "name": "stdout",
     "output_type": "stream",
     "text": [
      "7.91 ms ± 680 µs per loop (mean ± std. dev. of 7 runs, 100 loops each)\n"
     ]
    }
   ],
   "source": [
    "def latitudes(size):\n",
    "    latitudes = []\n",
    "    x = 0\n",
    "    while x < (size):\n",
    "        random_lat = random.randint(-90, 90) + random.random()\n",
    "        latitudes.append(random_lat)\n",
    "        x += 1\n",
    "    return latitudes\n",
    "# Call the function with 1500.\n",
    "%timeit latitudes(1500)"
   ]
  },
  {
   "cell_type": "code",
   "execution_count": 45,
   "id": "cd801313",
   "metadata": {},
   "outputs": [
    {
     "name": "stdout",
     "output_type": "stream",
     "text": [
      "4.43 ms ± 956 µs per loop (mean ± std. dev. of 7 runs, 100 loops each)\n"
     ]
    }
   ],
   "source": [
    "#refactor with for loop\n",
    "def latitudes(size):\n",
    "    latitudes = []\n",
    "    x = 0\n",
    "    for x in range(size):\n",
    "        random_lat = random.randint(-90, 90) + random.random()\n",
    "        latitudes.append(random_lat)\n",
    "    return latitudes\n",
    "# Call the function with 1500.\n",
    "%timeit latitudes(1500)"
   ]
  }
 ],
 "metadata": {
  "kernelspec": {
   "display_name": "PythonData",
   "language": "python",
   "name": "pythondata"
  },
  "language_info": {
   "codemirror_mode": {
    "name": "ipython",
    "version": 3
   },
   "file_extension": ".py",
   "mimetype": "text/x-python",
   "name": "python",
   "nbconvert_exporter": "python",
   "pygments_lexer": "ipython3",
   "version": "3.7.15"
  }
 },
 "nbformat": 4,
 "nbformat_minor": 5
}
